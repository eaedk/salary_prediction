{
  "nbformat": 4,
  "nbformat_minor": 0,
  "metadata": {
    "colab": {
      "name": "salary_prediction_standalone_001.ipynb",
      "provenance": [],
      "collapsed_sections": [],
      "authorship_tag": "ABX9TyNjlEXoC29wpc9+DTiZHdbf",
      "include_colab_link": true
    },
    "kernelspec": {
      "name": "python3",
      "display_name": "Python 3"
    },
    "language_info": {
      "name": "python"
    }
  },
  "cells": [
    {
      "cell_type": "markdown",
      "metadata": {
        "id": "view-in-github",
        "colab_type": "text"
      },
      "source": [
        "<a href=\"https://colab.research.google.com/github/eaedk/salary_prediction/blob/master/salary_prediction_standalone_001.ipynb\" target=\"_parent\"><img src=\"https://colab.research.google.com/assets/colab-badge.svg\" alt=\"Open In Colab\"/></a>"
      ]
    },
    {
      "cell_type": "markdown",
      "source": [
        "# Installation and Importation"
      ],
      "metadata": {
        "id": "QWNt5easZbA7"
      }
    },
    {
      "cell_type": "code",
      "execution_count": 1,
      "metadata": {
        "id": "0KxGIM4D2dkB"
      },
      "outputs": [],
      "source": [
        "import pandas as pd \n",
        "import seaborn as sns\n",
        "from sklearn.impute import SimpleImputer\n",
        "from sklearn.preprocessing import OneHotEncoder, StandardScaler\n",
        "from sklearn.model_selection import train_test_split\n",
        "from sklearn.ensemble import GradientBoostingRegressor, RandomForestRegressor\n",
        "from sklearn.metrics import mean_squared_error"
      ]
    },
    {
      "cell_type": "markdown",
      "source": [
        "# Data Loadind and EDA"
      ],
      "metadata": {
        "id": "l29K9p2gZV6X"
      }
    },
    {
      "cell_type": "code",
      "source": [
        "train = pd.read_csv(\"salary.csv\")"
      ],
      "metadata": {
        "id": "D7hitLOU2jD3"
      },
      "execution_count": 2,
      "outputs": []
    },
    {
      "cell_type": "code",
      "source": [
        "train.info()"
      ],
      "metadata": {
        "colab": {
          "base_uri": "https://localhost:8080/"
        },
        "id": "R1pFvm3220KM",
        "outputId": "8e39bdc3-6300-4430-b70b-c3dcd9d8fe38"
      },
      "execution_count": 3,
      "outputs": [
        {
          "output_type": "stream",
          "name": "stdout",
          "text": [
            "<class 'pandas.core.frame.DataFrame'>\n",
            "RangeIndex: 20 entries, 0 to 19\n",
            "Data columns (total 4 columns):\n",
            " #   Column           Non-Null Count  Dtype  \n",
            "---  ------           --------------  -----  \n",
            " 0   experience       15 non-null     object \n",
            " 1   test_score       19 non-null     float64\n",
            " 2   interview_score  19 non-null     float64\n",
            " 3   Salary           20 non-null     int64  \n",
            "dtypes: float64(2), int64(1), object(1)\n",
            "memory usage: 768.0+ bytes\n"
          ]
        }
      ]
    },
    {
      "cell_type": "code",
      "source": [
        "train.isna().sum()"
      ],
      "metadata": {
        "colab": {
          "base_uri": "https://localhost:8080/"
        },
        "id": "j3pW8BdD3B7V",
        "outputId": "ec3012ee-2c60-4237-a087-ff9f5e1d4545"
      },
      "execution_count": 4,
      "outputs": [
        {
          "output_type": "execute_result",
          "data": {
            "text/plain": [
              "experience         5\n",
              "test_score         1\n",
              "interview_score    1\n",
              "Salary             0\n",
              "dtype: int64"
            ]
          },
          "metadata": {},
          "execution_count": 4
        }
      ]
    },
    {
      "cell_type": "code",
      "source": [
        "y_col = 'Salary'\n",
        "useless_cols = [y_col, ]"
      ],
      "metadata": {
        "id": "QSbgAt_tJ14A"
      },
      "execution_count": 5,
      "outputs": []
    },
    {
      "cell_type": "code",
      "source": [
        "cat_cols = list(train.loc[:, ~train.columns.isin(useless_cols)]\\\n",
        "               .select_dtypes(exclude='number').columns) \n",
        "num_cols = list(train.loc[:, ~train.columns.isin(useless_cols)]\\\n",
        "               .select_dtypes(include='number').columns)\n",
        "print(f\"n categorical columns: {len(cat_cols)} \\nn numerical columns: {len(num_cols)} \")"
      ],
      "metadata": {
        "colab": {
          "base_uri": "https://localhost:8080/"
        },
        "id": "s5Tr4cHK3yUF",
        "outputId": "b09215eb-d641-4910-d0a1-884021477563"
      },
      "execution_count": 6,
      "outputs": [
        {
          "output_type": "stream",
          "name": "stdout",
          "text": [
            "n categorical columns: 1 \n",
            "n numerical columns: 2 \n"
          ]
        }
      ]
    },
    {
      "cell_type": "markdown",
      "source": [
        "# Preprocessing and Feature Engineering"
      ],
      "metadata": {
        "id": "jFJQqCUkZPHz"
      }
    },
    {
      "cell_type": "code",
      "source": [
        "cat_imputer = SimpleImputer(strategy=\"most_frequent\")\n",
        "num_imputer = SimpleImputer(strategy=\"mean\")"
      ],
      "metadata": {
        "id": "QSzm3_I-3Hh4"
      },
      "execution_count": 7,
      "outputs": []
    },
    {
      "cell_type": "code",
      "source": [
        "cat_imputer.fit(train[cat_cols])\n",
        "num_imputer.fit(train[num_cols])"
      ],
      "metadata": {
        "colab": {
          "base_uri": "https://localhost:8080/"
        },
        "id": "f4Yiwt9UHokU",
        "outputId": "2cffe9b8-2e2a-4e02-d8ca-4a64aadef464"
      },
      "execution_count": 8,
      "outputs": [
        {
          "output_type": "execute_result",
          "data": {
            "text/plain": [
              "SimpleImputer()"
            ]
          },
          "metadata": {},
          "execution_count": 8
        }
      ]
    },
    {
      "cell_type": "code",
      "source": [
        "if len(cat_cols) > 0: \n",
        "    train[cat_cols] = cat_imputer.transform(train[cat_cols])\n",
        "if len(num_cols) > 0: \n",
        "    train[num_cols] = num_imputer.transform(train[num_cols])"
      ],
      "metadata": {
        "id": "njYBVNWu4Czh"
      },
      "execution_count": 9,
      "outputs": []
    },
    {
      "cell_type": "code",
      "source": [
        "train.info()"
      ],
      "metadata": {
        "id": "MJtZ2S_z4XEO",
        "colab": {
          "base_uri": "https://localhost:8080/"
        },
        "outputId": "2385be7e-260a-456a-9368-1bee18d1a6bd"
      },
      "execution_count": 10,
      "outputs": [
        {
          "output_type": "stream",
          "name": "stdout",
          "text": [
            "<class 'pandas.core.frame.DataFrame'>\n",
            "RangeIndex: 20 entries, 0 to 19\n",
            "Data columns (total 4 columns):\n",
            " #   Column           Non-Null Count  Dtype  \n",
            "---  ------           --------------  -----  \n",
            " 0   experience       20 non-null     object \n",
            " 1   test_score       20 non-null     float64\n",
            " 2   interview_score  20 non-null     float64\n",
            " 3   Salary           20 non-null     int64  \n",
            "dtypes: float64(2), int64(1), object(1)\n",
            "memory usage: 768.0+ bytes\n"
          ]
        }
      ]
    },
    {
      "cell_type": "code",
      "source": [
        "encoder = OneHotEncoder(drop=\"if_binary\", sparse=False)\n",
        "if len(cat_cols) > 0: \n",
        "    encoder.fit(train[cat_cols])"
      ],
      "metadata": {
        "id": "FX_M73En5N4L"
      },
      "execution_count": 11,
      "outputs": []
    },
    {
      "cell_type": "code",
      "source": [
        "if len(cat_cols) > 0: \n",
        "    encoded_cols = list(encoder.get_feature_names_out())\n",
        "    train[encoded_cols] = encoder.transform(train[cat_cols])"
      ],
      "metadata": {
        "id": "RTwhtwrZ6Gmd"
      },
      "execution_count": 12,
      "outputs": []
    },
    {
      "cell_type": "code",
      "source": [
        "useful_cols = num_cols+encoded_cols"
      ],
      "metadata": {
        "id": "gGtZHARVBYc8"
      },
      "execution_count": 13,
      "outputs": []
    },
    {
      "cell_type": "code",
      "source": [
        "train[useful_cols].head()"
      ],
      "metadata": {
        "colab": {
          "base_uri": "https://localhost:8080/",
          "height": 270
        },
        "id": "A34wIm387Kv_",
        "outputId": "99ad9028-385e-49b7-8c5f-547ca6b0f2bd"
      },
      "execution_count": 14,
      "outputs": [
        {
          "output_type": "execute_result",
          "data": {
            "text/plain": [
              "   test_score  interview_score  experience_eleven  experience_fifteen  \\\n",
              "0         8.0              8.0                0.0                 0.0   \n",
              "1         5.0              4.0                0.0                 0.0   \n",
              "2         6.0              5.0                0.0                 0.0   \n",
              "3         9.0              9.0                0.0                 0.0   \n",
              "4         3.0              5.0                0.0                 0.0   \n",
              "\n",
              "   experience_five  experience_four  experience_one  experience_six  \\\n",
              "0              1.0              0.0             0.0             0.0   \n",
              "1              1.0              0.0             0.0             0.0   \n",
              "2              0.0              0.0             0.0             0.0   \n",
              "3              1.0              0.0             0.0             0.0   \n",
              "4              0.0              0.0             0.0             1.0   \n",
              "\n",
              "   experience_ten  experience_thirteen  experience_three  experience_twelve  \n",
              "0             0.0                  0.0               0.0                0.0  \n",
              "1             0.0                  0.0               0.0                0.0  \n",
              "2             0.0                  0.0               1.0                0.0  \n",
              "3             0.0                  0.0               0.0                0.0  \n",
              "4             0.0                  0.0               0.0                0.0  "
            ],
            "text/html": [
              "\n",
              "  <div id=\"df-302128c3-ab78-4e2c-b5ef-541a3750c205\">\n",
              "    <div class=\"colab-df-container\">\n",
              "      <div>\n",
              "<style scoped>\n",
              "    .dataframe tbody tr th:only-of-type {\n",
              "        vertical-align: middle;\n",
              "    }\n",
              "\n",
              "    .dataframe tbody tr th {\n",
              "        vertical-align: top;\n",
              "    }\n",
              "\n",
              "    .dataframe thead th {\n",
              "        text-align: right;\n",
              "    }\n",
              "</style>\n",
              "<table border=\"1\" class=\"dataframe\">\n",
              "  <thead>\n",
              "    <tr style=\"text-align: right;\">\n",
              "      <th></th>\n",
              "      <th>test_score</th>\n",
              "      <th>interview_score</th>\n",
              "      <th>experience_eleven</th>\n",
              "      <th>experience_fifteen</th>\n",
              "      <th>experience_five</th>\n",
              "      <th>experience_four</th>\n",
              "      <th>experience_one</th>\n",
              "      <th>experience_six</th>\n",
              "      <th>experience_ten</th>\n",
              "      <th>experience_thirteen</th>\n",
              "      <th>experience_three</th>\n",
              "      <th>experience_twelve</th>\n",
              "    </tr>\n",
              "  </thead>\n",
              "  <tbody>\n",
              "    <tr>\n",
              "      <th>0</th>\n",
              "      <td>8.0</td>\n",
              "      <td>8.0</td>\n",
              "      <td>0.0</td>\n",
              "      <td>0.0</td>\n",
              "      <td>1.0</td>\n",
              "      <td>0.0</td>\n",
              "      <td>0.0</td>\n",
              "      <td>0.0</td>\n",
              "      <td>0.0</td>\n",
              "      <td>0.0</td>\n",
              "      <td>0.0</td>\n",
              "      <td>0.0</td>\n",
              "    </tr>\n",
              "    <tr>\n",
              "      <th>1</th>\n",
              "      <td>5.0</td>\n",
              "      <td>4.0</td>\n",
              "      <td>0.0</td>\n",
              "      <td>0.0</td>\n",
              "      <td>1.0</td>\n",
              "      <td>0.0</td>\n",
              "      <td>0.0</td>\n",
              "      <td>0.0</td>\n",
              "      <td>0.0</td>\n",
              "      <td>0.0</td>\n",
              "      <td>0.0</td>\n",
              "      <td>0.0</td>\n",
              "    </tr>\n",
              "    <tr>\n",
              "      <th>2</th>\n",
              "      <td>6.0</td>\n",
              "      <td>5.0</td>\n",
              "      <td>0.0</td>\n",
              "      <td>0.0</td>\n",
              "      <td>0.0</td>\n",
              "      <td>0.0</td>\n",
              "      <td>0.0</td>\n",
              "      <td>0.0</td>\n",
              "      <td>0.0</td>\n",
              "      <td>0.0</td>\n",
              "      <td>1.0</td>\n",
              "      <td>0.0</td>\n",
              "    </tr>\n",
              "    <tr>\n",
              "      <th>3</th>\n",
              "      <td>9.0</td>\n",
              "      <td>9.0</td>\n",
              "      <td>0.0</td>\n",
              "      <td>0.0</td>\n",
              "      <td>1.0</td>\n",
              "      <td>0.0</td>\n",
              "      <td>0.0</td>\n",
              "      <td>0.0</td>\n",
              "      <td>0.0</td>\n",
              "      <td>0.0</td>\n",
              "      <td>0.0</td>\n",
              "      <td>0.0</td>\n",
              "    </tr>\n",
              "    <tr>\n",
              "      <th>4</th>\n",
              "      <td>3.0</td>\n",
              "      <td>5.0</td>\n",
              "      <td>0.0</td>\n",
              "      <td>0.0</td>\n",
              "      <td>0.0</td>\n",
              "      <td>0.0</td>\n",
              "      <td>0.0</td>\n",
              "      <td>1.0</td>\n",
              "      <td>0.0</td>\n",
              "      <td>0.0</td>\n",
              "      <td>0.0</td>\n",
              "      <td>0.0</td>\n",
              "    </tr>\n",
              "  </tbody>\n",
              "</table>\n",
              "</div>\n",
              "      <button class=\"colab-df-convert\" onclick=\"convertToInteractive('df-302128c3-ab78-4e2c-b5ef-541a3750c205')\"\n",
              "              title=\"Convert this dataframe to an interactive table.\"\n",
              "              style=\"display:none;\">\n",
              "        \n",
              "  <svg xmlns=\"http://www.w3.org/2000/svg\" height=\"24px\"viewBox=\"0 0 24 24\"\n",
              "       width=\"24px\">\n",
              "    <path d=\"M0 0h24v24H0V0z\" fill=\"none\"/>\n",
              "    <path d=\"M18.56 5.44l.94 2.06.94-2.06 2.06-.94-2.06-.94-.94-2.06-.94 2.06-2.06.94zm-11 1L8.5 8.5l.94-2.06 2.06-.94-2.06-.94L8.5 2.5l-.94 2.06-2.06.94zm10 10l.94 2.06.94-2.06 2.06-.94-2.06-.94-.94-2.06-.94 2.06-2.06.94z\"/><path d=\"M17.41 7.96l-1.37-1.37c-.4-.4-.92-.59-1.43-.59-.52 0-1.04.2-1.43.59L10.3 9.45l-7.72 7.72c-.78.78-.78 2.05 0 2.83L4 21.41c.39.39.9.59 1.41.59.51 0 1.02-.2 1.41-.59l7.78-7.78 2.81-2.81c.8-.78.8-2.07 0-2.86zM5.41 20L4 18.59l7.72-7.72 1.47 1.35L5.41 20z\"/>\n",
              "  </svg>\n",
              "      </button>\n",
              "      \n",
              "  <style>\n",
              "    .colab-df-container {\n",
              "      display:flex;\n",
              "      flex-wrap:wrap;\n",
              "      gap: 12px;\n",
              "    }\n",
              "\n",
              "    .colab-df-convert {\n",
              "      background-color: #E8F0FE;\n",
              "      border: none;\n",
              "      border-radius: 50%;\n",
              "      cursor: pointer;\n",
              "      display: none;\n",
              "      fill: #1967D2;\n",
              "      height: 32px;\n",
              "      padding: 0 0 0 0;\n",
              "      width: 32px;\n",
              "    }\n",
              "\n",
              "    .colab-df-convert:hover {\n",
              "      background-color: #E2EBFA;\n",
              "      box-shadow: 0px 1px 2px rgba(60, 64, 67, 0.3), 0px 1px 3px 1px rgba(60, 64, 67, 0.15);\n",
              "      fill: #174EA6;\n",
              "    }\n",
              "\n",
              "    [theme=dark] .colab-df-convert {\n",
              "      background-color: #3B4455;\n",
              "      fill: #D2E3FC;\n",
              "    }\n",
              "\n",
              "    [theme=dark] .colab-df-convert:hover {\n",
              "      background-color: #434B5C;\n",
              "      box-shadow: 0px 1px 3px 1px rgba(0, 0, 0, 0.15);\n",
              "      filter: drop-shadow(0px 1px 2px rgba(0, 0, 0, 0.3));\n",
              "      fill: #FFFFFF;\n",
              "    }\n",
              "  </style>\n",
              "\n",
              "      <script>\n",
              "        const buttonEl =\n",
              "          document.querySelector('#df-302128c3-ab78-4e2c-b5ef-541a3750c205 button.colab-df-convert');\n",
              "        buttonEl.style.display =\n",
              "          google.colab.kernel.accessAllowed ? 'block' : 'none';\n",
              "\n",
              "        async function convertToInteractive(key) {\n",
              "          const element = document.querySelector('#df-302128c3-ab78-4e2c-b5ef-541a3750c205');\n",
              "          const dataTable =\n",
              "            await google.colab.kernel.invokeFunction('convertToInteractive',\n",
              "                                                     [key], {});\n",
              "          if (!dataTable) return;\n",
              "\n",
              "          const docLinkHtml = 'Like what you see? Visit the ' +\n",
              "            '<a target=\"_blank\" href=https://colab.research.google.com/notebooks/data_table.ipynb>data table notebook</a>'\n",
              "            + ' to learn more about interactive tables.';\n",
              "          element.innerHTML = '';\n",
              "          dataTable['output_type'] = 'display_data';\n",
              "          await google.colab.output.renderOutput(dataTable, element);\n",
              "          const docLink = document.createElement('div');\n",
              "          docLink.innerHTML = docLinkHtml;\n",
              "          element.appendChild(docLink);\n",
              "        }\n",
              "      </script>\n",
              "    </div>\n",
              "  </div>\n",
              "  "
            ]
          },
          "metadata": {},
          "execution_count": 14
        }
      ]
    },
    {
      "cell_type": "code",
      "source": [
        "scaler = StandardScaler()\n",
        "scaler.fit(train[useful_cols])"
      ],
      "metadata": {
        "colab": {
          "base_uri": "https://localhost:8080/"
        },
        "id": "tn70nLSbRd27",
        "outputId": "d5a50f5f-50eb-4806-db57-8922708e1de5"
      },
      "execution_count": 15,
      "outputs": [
        {
          "output_type": "execute_result",
          "data": {
            "text/plain": [
              "StandardScaler()"
            ]
          },
          "metadata": {},
          "execution_count": 15
        }
      ]
    },
    {
      "cell_type": "markdown",
      "source": [
        "# ML Modeling"
      ],
      "metadata": {
        "id": "fxGKUjm1ZDQ8"
      }
    },
    {
      "cell_type": "code",
      "source": [
        "if pd.api.types.is_numeric_dtype(train[y_col]):\n",
        "    X_train, X_valid, y_train, y_valid = train_test_split(scaler.transform(train[useful_cols]), train[y_col].values, test_size=0.33, random_state=42)\n",
        "else:\n",
        "    X_train, X_valid, y_train, y_valid = train_test_split(scaler.transform(train[useful_cols]), train[y_col].values, test_size=0.33, random_state=42, stratify=train[y_col])"
      ],
      "metadata": {
        "id": "ucOBUedKLPeb"
      },
      "execution_count": 16,
      "outputs": []
    },
    {
      "cell_type": "code",
      "source": [
        "model_gb = GradientBoostingRegressor( learning_rate=0.1, n_estimators=50, random_state=10)"
      ],
      "metadata": {
        "id": "RXfDZqTaL3sv"
      },
      "execution_count": 17,
      "outputs": []
    },
    {
      "cell_type": "code",
      "source": [
        "model_gb.fit(X_train, y_train)"
      ],
      "metadata": {
        "colab": {
          "base_uri": "https://localhost:8080/"
        },
        "id": "S-di-_TwKXZJ",
        "outputId": "cf20963d-388b-4486-c163-70ede7a910af"
      },
      "execution_count": 18,
      "outputs": [
        {
          "output_type": "execute_result",
          "data": {
            "text/plain": [
              "GradientBoostingRegressor(n_estimators=50, random_state=10)"
            ]
          },
          "metadata": {},
          "execution_count": 18
        }
      ]
    },
    {
      "cell_type": "code",
      "source": [
        "mean_squared_error(y_valid,model_gb.predict(X_valid))"
      ],
      "metadata": {
        "colab": {
          "base_uri": "https://localhost:8080/"
        },
        "id": "3lG_d-hkNWtW",
        "outputId": "79c2d57f-fb8c-40ea-ca81-068af254ab5f"
      },
      "execution_count": 19,
      "outputs": [
        {
          "output_type": "execute_result",
          "data": {
            "text/plain": [
              "34543190.31452102"
            ]
          },
          "metadata": {},
          "execution_count": 19
        }
      ]
    },
    {
      "cell_type": "markdown",
      "source": [
        "# Exportation"
      ],
      "metadata": {
        "id": "Y5MCkGhOYEYc"
      }
    },
    {
      "cell_type": "code",
      "source": [
        "import pickle"
      ],
      "metadata": {
        "id": "g7_fdeTMVZeg"
      },
      "execution_count": 20,
      "outputs": []
    },
    {
      "cell_type": "code",
      "source": [
        "# function to use later in an app \n",
        "def apply_processing(dataframe,cateogrical_imputer,\n",
        "                     numerical_imputer,encoder,scaler,\n",
        "            numerical_cols=[\"name_numerical_col_001\"],\n",
        "            categorical_cols=[\"name_categorical_col_001\"]):\n",
        "    \"Straightforward pipeline to apply the preprocessing and the feature engineering over and over again\"\n",
        "\n",
        "    df_ = dataframe.copy()\n",
        "\n",
        "    df_[categorical_cols] = cateogrical_imputer.transform(df_[categorical_cols])\n",
        "    df_[numerical_cols] = numerical_imputer.transform(df_[numerical_cols])\n",
        "\n",
        "    encoded_cols = list(encoder.get_feature_names_out())\n",
        "    df_[encoded_cols] = encoder.transform(df_[categorical_cols])\n",
        "\n",
        "    useful_cols = numerical_cols+encoded_cols\n",
        "    df_[useful_cols] = scaler.transform(df_[useful_cols])\n",
        "\n",
        "    return df_[useful_cols]"
      ],
      "metadata": {
        "id": "SnA988STSTnH"
      },
      "execution_count": 21,
      "outputs": []
    },
    {
      "cell_type": "code",
      "source": [
        "objs_for_processing = dict(cateogrical_imputer=cat_imputer,\n",
        "numerical_imputer=num_imputer,\n",
        "encoder=encoder,\n",
        "scaler=scaler, numerical_cols=num_cols,\n",
        "categorical_cols=cat_cols)"
      ],
      "metadata": {
        "id": "h5Vc4LbZlk9P"
      },
      "execution_count": 22,
      "outputs": []
    },
    {
      "cell_type": "code",
      "source": [
        "# Save the objects for processing as a dict in a file\n",
        "with open('processing.pkl', 'wb') as f:\n",
        "    pickle.dump(objs_for_processing, f, pickle.HIGHEST_PROTOCOL)"
      ],
      "metadata": {
        "id": "slqdDV_sWlq2"
      },
      "execution_count": 23,
      "outputs": []
    },
    {
      "cell_type": "code",
      "source": [
        "# Save the model object for processing as a dict in a file\n",
        "with open('model.pkl', 'wb') as f:\n",
        "    pickle.dump(model_gb, f, pickle.HIGHEST_PROTOCOL)"
      ],
      "metadata": {
        "id": "RdChfW4BX8ic"
      },
      "execution_count": 24,
      "outputs": []
    }
  ]
}